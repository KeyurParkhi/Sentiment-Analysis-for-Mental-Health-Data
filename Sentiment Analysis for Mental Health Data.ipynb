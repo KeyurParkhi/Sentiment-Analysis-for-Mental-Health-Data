{
  "nbformat": 4,
  "nbformat_minor": 0,
  "metadata": {
    "colab": {
      "provenance": []
    },
    "kernelspec": {
      "name": "python3",
      "display_name": "Python 3"
    },
    "language_info": {
      "name": "python"
    }
  },
  "cells": [
    {
      "cell_type": "markdown",
      "source": [
        "## **Sentiment Analysis for Mental Health Data**\n",
        "#### An approach towards enhancing patient - psychologist interaction\n",
        "---"
      ],
      "metadata": {
        "id": "IvWnVfI6AluK"
      }
    },
    {
      "cell_type": "markdown",
      "source": [
        "\n",
        "\n",
        "KEYUR_PARKHI\n",
        "\n",
        "GOURISH_SALGAONKAR\n",
        "\n",
        "DEV_VATNANI\n",
        "\n",
        "---\n",
        "\n"
      ],
      "metadata": {
        "id": "qD-L8vH40kwP"
      }
    },
    {
      "cell_type": "markdown",
      "source": [
        "## **Role of Sentiment Analysis in this scenario**\n",
        "A psychologist should assess the patient’s emotional state before applying a treatment. Therapy should be personalized to ensure that the intervention matches the individual's needs rather than following a one-size-fits-all approach.\n",
        "\n",
        "---"
      ],
      "metadata": {
        "id": "N-IF6icOswVz"
      }
    },
    {
      "cell_type": "markdown",
      "source": [
        "## **Objectives:**\n",
        "\n",
        "\n",
        "*   Perform sentiment analysis on mental health conversations between patient and psychologist.\n",
        "*   Improve patient - psychologist interactions through NLP techniques\n",
        "\n",
        "---\n"
      ],
      "metadata": {
        "id": "DgMbRlwltWJK"
      }
    },
    {
      "cell_type": "markdown",
      "source": [
        "## **Approach:**\n",
        "\n",
        "\n",
        "*   Perform necessary text data preprocessing.\n",
        "\n",
        "*   Define sentiment labels (\"positive\", \"negative\", \"neutral\") according to the relevant words found.\n",
        "*   Apply the labels to the unsupervised text dataset to convert it into supervised text dataset suitable for applying classification algorithms like Logistic Regression, Support Vector Machines Classifier and Naive Bayes Classifier.\n",
        "\n",
        "\n",
        "*   Perform TF-IDF Vectorization of the text data after train-test split.\n",
        "\n",
        "\n",
        "*   Identify the best evaluation metric and the best model that could be used for classification.\n",
        "*   Provide suggestions that can be implemented to improve patient - psychologist interactions.\n",
        "\n",
        "\n",
        "---\n"
      ],
      "metadata": {
        "id": "w3kPGegTtqH4"
      }
    },
    {
      "cell_type": "markdown",
      "source": [
        "#### **Dataset Information:** This dataset consists of 3512 observations with 2 features (\"Context\" and \"Response\")\n",
        "#### To view the complete dataset : [DATA](https://www.google.com/url?q=https%3A%2F%2Fwww.kaggle.com%2Fdatasets%2Fthedevastator%2Fnlp-mental-health-conversations)\n",
        "\n",
        "---"
      ],
      "metadata": {
        "id": "HsD9M_SouM61"
      }
    },
    {
      "cell_type": "markdown",
      "source": [
        "### **Attribute Information:**\n",
        "\n",
        "![image.png](data:image/png;base64,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)\n",
        "---"
      ],
      "metadata": {
        "id": "mp26BcSmuzag"
      }
    },
    {
      "cell_type": "code",
      "source": [
        "# Importing required libraries\n",
        "import pandas as pd\n",
        "import numpy as np\n",
        "import re\n",
        "import string\n",
        "import matplotlib.pyplot as plt\n",
        "from sklearn.model_selection import train_test_split\n",
        "from sklearn.feature_extraction.text import TfidfVectorizer\n",
        "from sklearn.linear_model import LogisticRegression\n",
        "from sklearn.svm import SVC\n",
        "from sklearn.naive_bayes import MultinomialNB\n",
        "from sklearn.metrics import classification_report, accuracy_score, confusion_matrix\n",
        "from nltk.stem import WordNetLemmatizer\n",
        "from nltk.corpus import wordnet\n",
        "import nltk"
      ],
      "metadata": {
        "id": "zJO6wS5tMKuw"
      },
      "execution_count": 1,
      "outputs": []
    },
    {
      "cell_type": "code",
      "source": [
        "# Download necessary NLTK data\n",
        "nltk.download('wordnet')\n",
        "nltk.download('omw-1.4')\n",
        "\n",
        "# Load dataset\n",
        "df = pd.read_csv(\"/content/train.csv\").dropna()"
      ],
      "metadata": {
        "colab": {
          "base_uri": "https://localhost:8080/"
        },
        "id": "URkBLePRE_ub",
        "outputId": "c6b5b98e-41f2-46fe-8f24-f4a04a196a83"
      },
      "execution_count": 2,
      "outputs": [
        {
          "output_type": "stream",
          "name": "stderr",
          "text": [
            "[nltk_data] Downloading package wordnet to /root/nltk_data...\n",
            "[nltk_data] Downloading package omw-1.4 to /root/nltk_data...\n"
          ]
        }
      ]
    },
    {
      "cell_type": "code",
      "source": [
        "# First 5 rows of the dataset\n",
        "df.head()"
      ],
      "metadata": {
        "colab": {
          "base_uri": "https://localhost:8080/",
          "height": 206
        },
        "id": "VgLFGK1oGRQT",
        "outputId": "977226ee-839a-40c1-b34c-adb3e093657d"
      },
      "execution_count": 3,
      "outputs": [
        {
          "output_type": "execute_result",
          "data": {
            "text/plain": [
              "                                             Context  \\\n",
              "0  I'm going through some things with my feelings...   \n",
              "1  I'm going through some things with my feelings...   \n",
              "2  I'm going through some things with my feelings...   \n",
              "3  I'm going through some things with my feelings...   \n",
              "4  I'm going through some things with my feelings...   \n",
              "\n",
              "                                            Response  \n",
              "0  If everyone thinks you're worthless, then mayb...  \n",
              "1  Hello, and thank you for your question and see...  \n",
              "2  First thing I'd suggest is getting the sleep y...  \n",
              "3  Therapy is essential for those that are feelin...  \n",
              "4  I first want to let you know that you are not ...  "
            ],
            "text/html": [
              "\n",
              "  <div id=\"df-89b84b84-941e-41a2-8e7c-9b62fcd1912b\" class=\"colab-df-container\">\n",
              "    <div>\n",
              "<style scoped>\n",
              "    .dataframe tbody tr th:only-of-type {\n",
              "        vertical-align: middle;\n",
              "    }\n",
              "\n",
              "    .dataframe tbody tr th {\n",
              "        vertical-align: top;\n",
              "    }\n",
              "\n",
              "    .dataframe thead th {\n",
              "        text-align: right;\n",
              "    }\n",
              "</style>\n",
              "<table border=\"1\" class=\"dataframe\">\n",
              "  <thead>\n",
              "    <tr style=\"text-align: right;\">\n",
              "      <th></th>\n",
              "      <th>Context</th>\n",
              "      <th>Response</th>\n",
              "    </tr>\n",
              "  </thead>\n",
              "  <tbody>\n",
              "    <tr>\n",
              "      <th>0</th>\n",
              "      <td>I'm going through some things with my feelings...</td>\n",
              "      <td>If everyone thinks you're worthless, then mayb...</td>\n",
              "    </tr>\n",
              "    <tr>\n",
              "      <th>1</th>\n",
              "      <td>I'm going through some things with my feelings...</td>\n",
              "      <td>Hello, and thank you for your question and see...</td>\n",
              "    </tr>\n",
              "    <tr>\n",
              "      <th>2</th>\n",
              "      <td>I'm going through some things with my feelings...</td>\n",
              "      <td>First thing I'd suggest is getting the sleep y...</td>\n",
              "    </tr>\n",
              "    <tr>\n",
              "      <th>3</th>\n",
              "      <td>I'm going through some things with my feelings...</td>\n",
              "      <td>Therapy is essential for those that are feelin...</td>\n",
              "    </tr>\n",
              "    <tr>\n",
              "      <th>4</th>\n",
              "      <td>I'm going through some things with my feelings...</td>\n",
              "      <td>I first want to let you know that you are not ...</td>\n",
              "    </tr>\n",
              "  </tbody>\n",
              "</table>\n",
              "</div>\n",
              "    <div class=\"colab-df-buttons\">\n",
              "\n",
              "  <div class=\"colab-df-container\">\n",
              "    <button class=\"colab-df-convert\" onclick=\"convertToInteractive('df-89b84b84-941e-41a2-8e7c-9b62fcd1912b')\"\n",
              "            title=\"Convert this dataframe to an interactive table.\"\n",
              "            style=\"display:none;\">\n",
              "\n",
              "  <svg xmlns=\"http://www.w3.org/2000/svg\" height=\"24px\" viewBox=\"0 -960 960 960\">\n",
              "    <path d=\"M120-120v-720h720v720H120Zm60-500h600v-160H180v160Zm220 220h160v-160H400v160Zm0 220h160v-160H400v160ZM180-400h160v-160H180v160Zm440 0h160v-160H620v160ZM180-180h160v-160H180v160Zm440 0h160v-160H620v160Z\"/>\n",
              "  </svg>\n",
              "    </button>\n",
              "\n",
              "  <style>\n",
              "    .colab-df-container {\n",
              "      display:flex;\n",
              "      gap: 12px;\n",
              "    }\n",
              "\n",
              "    .colab-df-convert {\n",
              "      background-color: #E8F0FE;\n",
              "      border: none;\n",
              "      border-radius: 50%;\n",
              "      cursor: pointer;\n",
              "      display: none;\n",
              "      fill: #1967D2;\n",
              "      height: 32px;\n",
              "      padding: 0 0 0 0;\n",
              "      width: 32px;\n",
              "    }\n",
              "\n",
              "    .colab-df-convert:hover {\n",
              "      background-color: #E2EBFA;\n",
              "      box-shadow: 0px 1px 2px rgba(60, 64, 67, 0.3), 0px 1px 3px 1px rgba(60, 64, 67, 0.15);\n",
              "      fill: #174EA6;\n",
              "    }\n",
              "\n",
              "    .colab-df-buttons div {\n",
              "      margin-bottom: 4px;\n",
              "    }\n",
              "\n",
              "    [theme=dark] .colab-df-convert {\n",
              "      background-color: #3B4455;\n",
              "      fill: #D2E3FC;\n",
              "    }\n",
              "\n",
              "    [theme=dark] .colab-df-convert:hover {\n",
              "      background-color: #434B5C;\n",
              "      box-shadow: 0px 1px 3px 1px rgba(0, 0, 0, 0.15);\n",
              "      filter: drop-shadow(0px 1px 2px rgba(0, 0, 0, 0.3));\n",
              "      fill: #FFFFFF;\n",
              "    }\n",
              "  </style>\n",
              "\n",
              "    <script>\n",
              "      const buttonEl =\n",
              "        document.querySelector('#df-89b84b84-941e-41a2-8e7c-9b62fcd1912b button.colab-df-convert');\n",
              "      buttonEl.style.display =\n",
              "        google.colab.kernel.accessAllowed ? 'block' : 'none';\n",
              "\n",
              "      async function convertToInteractive(key) {\n",
              "        const element = document.querySelector('#df-89b84b84-941e-41a2-8e7c-9b62fcd1912b');\n",
              "        const dataTable =\n",
              "          await google.colab.kernel.invokeFunction('convertToInteractive',\n",
              "                                                    [key], {});\n",
              "        if (!dataTable) return;\n",
              "\n",
              "        const docLinkHtml = 'Like what you see? Visit the ' +\n",
              "          '<a target=\"_blank\" href=https://colab.research.google.com/notebooks/data_table.ipynb>data table notebook</a>'\n",
              "          + ' to learn more about interactive tables.';\n",
              "        element.innerHTML = '';\n",
              "        dataTable['output_type'] = 'display_data';\n",
              "        await google.colab.output.renderOutput(dataTable, element);\n",
              "        const docLink = document.createElement('div');\n",
              "        docLink.innerHTML = docLinkHtml;\n",
              "        element.appendChild(docLink);\n",
              "      }\n",
              "    </script>\n",
              "  </div>\n",
              "\n",
              "\n",
              "    <div id=\"df-e6ada6c7-d43c-4487-b52e-a39532329d8e\">\n",
              "      <button class=\"colab-df-quickchart\" onclick=\"quickchart('df-e6ada6c7-d43c-4487-b52e-a39532329d8e')\"\n",
              "                title=\"Suggest charts\"\n",
              "                style=\"display:none;\">\n",
              "\n",
              "<svg xmlns=\"http://www.w3.org/2000/svg\" height=\"24px\"viewBox=\"0 0 24 24\"\n",
              "     width=\"24px\">\n",
              "    <g>\n",
              "        <path d=\"M19 3H5c-1.1 0-2 .9-2 2v14c0 1.1.9 2 2 2h14c1.1 0 2-.9 2-2V5c0-1.1-.9-2-2-2zM9 17H7v-7h2v7zm4 0h-2V7h2v10zm4 0h-2v-4h2v4z\"/>\n",
              "    </g>\n",
              "</svg>\n",
              "      </button>\n",
              "\n",
              "<style>\n",
              "  .colab-df-quickchart {\n",
              "      --bg-color: #E8F0FE;\n",
              "      --fill-color: #1967D2;\n",
              "      --hover-bg-color: #E2EBFA;\n",
              "      --hover-fill-color: #174EA6;\n",
              "      --disabled-fill-color: #AAA;\n",
              "      --disabled-bg-color: #DDD;\n",
              "  }\n",
              "\n",
              "  [theme=dark] .colab-df-quickchart {\n",
              "      --bg-color: #3B4455;\n",
              "      --fill-color: #D2E3FC;\n",
              "      --hover-bg-color: #434B5C;\n",
              "      --hover-fill-color: #FFFFFF;\n",
              "      --disabled-bg-color: #3B4455;\n",
              "      --disabled-fill-color: #666;\n",
              "  }\n",
              "\n",
              "  .colab-df-quickchart {\n",
              "    background-color: var(--bg-color);\n",
              "    border: none;\n",
              "    border-radius: 50%;\n",
              "    cursor: pointer;\n",
              "    display: none;\n",
              "    fill: var(--fill-color);\n",
              "    height: 32px;\n",
              "    padding: 0;\n",
              "    width: 32px;\n",
              "  }\n",
              "\n",
              "  .colab-df-quickchart:hover {\n",
              "    background-color: var(--hover-bg-color);\n",
              "    box-shadow: 0 1px 2px rgba(60, 64, 67, 0.3), 0 1px 3px 1px rgba(60, 64, 67, 0.15);\n",
              "    fill: var(--button-hover-fill-color);\n",
              "  }\n",
              "\n",
              "  .colab-df-quickchart-complete:disabled,\n",
              "  .colab-df-quickchart-complete:disabled:hover {\n",
              "    background-color: var(--disabled-bg-color);\n",
              "    fill: var(--disabled-fill-color);\n",
              "    box-shadow: none;\n",
              "  }\n",
              "\n",
              "  .colab-df-spinner {\n",
              "    border: 2px solid var(--fill-color);\n",
              "    border-color: transparent;\n",
              "    border-bottom-color: var(--fill-color);\n",
              "    animation:\n",
              "      spin 1s steps(1) infinite;\n",
              "  }\n",
              "\n",
              "  @keyframes spin {\n",
              "    0% {\n",
              "      border-color: transparent;\n",
              "      border-bottom-color: var(--fill-color);\n",
              "      border-left-color: var(--fill-color);\n",
              "    }\n",
              "    20% {\n",
              "      border-color: transparent;\n",
              "      border-left-color: var(--fill-color);\n",
              "      border-top-color: var(--fill-color);\n",
              "    }\n",
              "    30% {\n",
              "      border-color: transparent;\n",
              "      border-left-color: var(--fill-color);\n",
              "      border-top-color: var(--fill-color);\n",
              "      border-right-color: var(--fill-color);\n",
              "    }\n",
              "    40% {\n",
              "      border-color: transparent;\n",
              "      border-right-color: var(--fill-color);\n",
              "      border-top-color: var(--fill-color);\n",
              "    }\n",
              "    60% {\n",
              "      border-color: transparent;\n",
              "      border-right-color: var(--fill-color);\n",
              "    }\n",
              "    80% {\n",
              "      border-color: transparent;\n",
              "      border-right-color: var(--fill-color);\n",
              "      border-bottom-color: var(--fill-color);\n",
              "    }\n",
              "    90% {\n",
              "      border-color: transparent;\n",
              "      border-bottom-color: var(--fill-color);\n",
              "    }\n",
              "  }\n",
              "</style>\n",
              "\n",
              "      <script>\n",
              "        async function quickchart(key) {\n",
              "          const quickchartButtonEl =\n",
              "            document.querySelector('#' + key + ' button');\n",
              "          quickchartButtonEl.disabled = true;  // To prevent multiple clicks.\n",
              "          quickchartButtonEl.classList.add('colab-df-spinner');\n",
              "          try {\n",
              "            const charts = await google.colab.kernel.invokeFunction(\n",
              "                'suggestCharts', [key], {});\n",
              "          } catch (error) {\n",
              "            console.error('Error during call to suggestCharts:', error);\n",
              "          }\n",
              "          quickchartButtonEl.classList.remove('colab-df-spinner');\n",
              "          quickchartButtonEl.classList.add('colab-df-quickchart-complete');\n",
              "        }\n",
              "        (() => {\n",
              "          let quickchartButtonEl =\n",
              "            document.querySelector('#df-e6ada6c7-d43c-4487-b52e-a39532329d8e button');\n",
              "          quickchartButtonEl.style.display =\n",
              "            google.colab.kernel.accessAllowed ? 'block' : 'none';\n",
              "        })();\n",
              "      </script>\n",
              "    </div>\n",
              "\n",
              "    </div>\n",
              "  </div>\n"
            ],
            "application/vnd.google.colaboratory.intrinsic+json": {
              "type": "dataframe",
              "variable_name": "df",
              "summary": "{\n  \"name\": \"df\",\n  \"rows\": 3508,\n  \"fields\": [\n    {\n      \"column\": \"Context\",\n      \"properties\": {\n        \"dtype\": \"category\",\n        \"num_unique_values\": 995,\n        \"samples\": [\n          \"My mother has Alzheimer's and she has become so nasty and mean to everyone and she always asks for unrealistic, silly or meaningless items.  I get so frustrated and angry, but then I feel guilty because I know it probably isn\\u2019t her fault.  How can I cope with feeling like this?\",\n          \"How do I stop those thoughts?\",\n          \"For the past week or so me and my boyfriend have been fighting. He has been making a lot of bad choices and he is currently hospitalized. I'm barely eating or sleeping because I'm constantly worried about him. Everyone else in my life says that I should just forget about him and walk away. What should I do?\"\n        ],\n        \"semantic_type\": \"\",\n        \"description\": \"\"\n      }\n    },\n    {\n      \"column\": \"Response\",\n      \"properties\": {\n        \"dtype\": \"string\",\n        \"num_unique_values\": 2479,\n        \"samples\": [\n          \"A lot of different things could be happening here. Do you feel angry or sad or anxious when you think about how helpless he is? If you have not actually kicked him, then I would encourage you to look at feelings other than guilt, since you did not hurt him. What else is there?It would probably be very helpful to talk with a therapist about the specifics of this so that you can see what else is happening for you. It could be that you feel safe with your cat, so strong emotions come up because you feel safe.\",\n          \"It is possible that you have depression, but you could also be experiencing some other changes that mean that you have feelings of being sad without actually being depressed. Your statement makes it sound like you've stopped caring about your work, but you're still going to work and doing your work. It almost sounds like you are dissatisfied with your work. Do you like what you do?\\u00a0When you said that life is pointless, what makes it that way? What is keeping you going? Is there something you can do each day that you can find meaning in?You mentioned that you are not sure if you need help or are just tired. It sounds like you could certainly benefit from talking with someone about more specifics.I'm curious about how long you have felt this way and if you are aware of anything that is contributing to it.\",\n          \"Crying in therapy is a natural response, a relief to what you are going through. It is an expression of emotions, which is why you are going to therapy - to express yourself in a safe, nonjudgmental space.\\u00a0Rather than trying to stop crying, sit on the couch with it until it is done and you have finished with the clearing. The energy is not blocked, is moving - a good thing. It's good to cry.\"\n        ],\n        \"semantic_type\": \"\",\n        \"description\": \"\"\n      }\n    }\n  ]\n}"
            }
          },
          "metadata": {},
          "execution_count": 3
        }
      ]
    },
    {
      "cell_type": "code",
      "source": [
        "# To understand the structure of the dataset\n",
        "df.info()"
      ],
      "metadata": {
        "colab": {
          "base_uri": "https://localhost:8080/"
        },
        "id": "7rGFIyB3FP5x",
        "outputId": "6204fff2-6afb-4222-9981-ee4a8f7cd54e"
      },
      "execution_count": 4,
      "outputs": [
        {
          "output_type": "stream",
          "name": "stdout",
          "text": [
            "<class 'pandas.core.frame.DataFrame'>\n",
            "Index: 3508 entries, 0 to 3511\n",
            "Data columns (total 2 columns):\n",
            " #   Column    Non-Null Count  Dtype \n",
            "---  ------    --------------  ----- \n",
            " 0   Context   3508 non-null   object\n",
            " 1   Response  3508 non-null   object\n",
            "dtypes: object(2)\n",
            "memory usage: 82.2+ KB\n"
          ]
        }
      ]
    },
    {
      "cell_type": "code",
      "source": [
        "# To obtain no of unique entries in Context column\n",
        "unique_contexts = df['Context'].nunique()\n",
        "print(f\"Number of unique entries in the 'Context' column: {unique_contexts}\")\n",
        "\n",
        "# To obtain no of unique entries in Response column\n",
        "unique_responses = df['Response'].nunique()\n",
        "print(f\"Number of unique entries in the 'Response' column: {unique_responses}\")"
      ],
      "metadata": {
        "colab": {
          "base_uri": "https://localhost:8080/"
        },
        "id": "hBEsDjZwGzuF",
        "outputId": "d34a5bb8-258b-4259-ec82-6358f6f8d6af"
      },
      "execution_count": 5,
      "outputs": [
        {
          "output_type": "stream",
          "name": "stdout",
          "text": [
            "Number of unique entries in the 'Context' column: 995\n",
            "Number of unique entries in the 'Response' column: 2479\n"
          ]
        }
      ]
    },
    {
      "cell_type": "code",
      "source": [
        "# Missing value counts for each column\n",
        "print(df.isnull().sum())"
      ],
      "metadata": {
        "colab": {
          "base_uri": "https://localhost:8080/"
        },
        "id": "e9sKC5l1IPqi",
        "outputId": "f16c9311-5cb9-43a3-fe8d-4d638f86ccab"
      },
      "execution_count": 6,
      "outputs": [
        {
          "output_type": "stream",
          "name": "stdout",
          "text": [
            "Context     0\n",
            "Response    0\n",
            "dtype: int64\n"
          ]
        }
      ]
    },
    {
      "cell_type": "markdown",
      "source": [
        "There are no missing values in this dataset."
      ],
      "metadata": {
        "id": "7UPGaO-svwJp"
      }
    },
    {
      "cell_type": "code",
      "source": [
        "# Define sentiment labels\n",
        "def assign_label(context):\n",
        "    if any(word in context.lower() for word in ['happy', 'great', 'good', 'support', 'hope']):\n",
        "        return 'positive'\n",
        "    elif any(word in context.lower() for word in ['bad', 'sad', 'depress', 'angry', 'frustrated', 'hopeless']):\n",
        "        return 'negative'\n",
        "    else:\n",
        "        return 'neutral'\n",
        "\n",
        "df['label'] = df['Context'].apply(assign_label)\n",
        "print(df['label'].value_counts(normalize=True))"
      ],
      "metadata": {
        "colab": {
          "base_uri": "https://localhost:8080/"
        },
        "id": "Kl_zE9G3FONs",
        "outputId": "2abcc634-0003-4c32-922e-addac77494e1"
      },
      "execution_count": 8,
      "outputs": [
        {
          "output_type": "stream",
          "name": "stdout",
          "text": [
            "label\n",
            "neutral     0.691277\n",
            "negative    0.183580\n",
            "positive    0.125143\n",
            "Name: proportion, dtype: float64\n"
          ]
        }
      ]
    },
    {
      "cell_type": "code",
      "source": [
        "import matplotlib.pyplot as plt\n",
        "plt.figure(figsize=(8, 6))\n",
        "df['label'].value_counts(normalize=True).plot(kind='bar', color=['blue', 'red', 'green'])\n",
        "plt.title('Proportion of Sentiment Labels')\n",
        "plt.xlabel('Sentiment Label')\n",
        "plt.ylabel('Proportion')\n",
        "plt.xticks(rotation=0)\n",
        "plt.show()"
      ],
      "metadata": {
        "colab": {
          "base_uri": "https://localhost:8080/",
          "height": 564
        },
        "id": "Jx7iHiwZtXtV",
        "outputId": "242f9dfe-a2a2-408e-fbde-6ecb3c889e8a"
      },
      "execution_count": null,
      "outputs": [
        {
          "output_type": "display_data",
          "data": {
            "text/plain": [
              "<Figure size 800x600 with 1 Axes>"
            ],
            "image/png": "[encoded data removed]"
          },
          "metadata": {}
        }
      ]
    },
    {
      "cell_type": "markdown",
      "source": [
        "After applying labels to the entire dataset, it can be inferred that we are dealing with an imbalanced dataset."
      ],
      "metadata": {
        "id": "5m2J7vC0v9ox"
      }
    },
    {
      "cell_type": "markdown",
      "source": [
        "## **Data Preprocessing:**\n",
        "\n",
        "*   Lower-casing\n",
        "\n",
        "*   Removing Punctuations\n",
        "*   Removing Digits\n",
        "\n",
        "\n",
        "*  Lemmatization\n",
        "\n"
      ],
      "metadata": {
        "id": "ng8rSYA2v_lQ"
      }
    },
    {
      "cell_type": "code",
      "source": [
        "# Text Preprocessing with Lemmatization\n",
        "def preprocess_text(text):\n",
        "    lemmatizer = WordNetLemmatizer()\n",
        "    text = text.lower()\n",
        "    text = re.sub(f\"[{string.punctuation}]\", \"\", text)\n",
        "    text = re.sub(r'\\d+', '', text)\n",
        "    words = text.split()\n",
        "    lemmatized_words = [lemmatizer.lemmatize(word, wordnet.VERB) for word in words]\n",
        "    return \" \".join(lemmatized_words)\n",
        "\n",
        "df['cleaned_text'] = df['Context'].apply(preprocess_text)\n",
        "df[\"cleaned_text\"].head()"
      ],
      "metadata": {
        "colab": {
          "base_uri": "https://localhost:8080/",
          "height": 241
        },
        "id": "5MjHxz3fFVYF",
        "outputId": "4f857ea7-09a6-4fce-feb5-2cc7ccbc0c7f"
      },
      "execution_count": null,
      "outputs": [
        {
          "output_type": "execute_result",
          "data": {
            "text/plain": [
              "0    im go through some things with my feelings and...\n",
              "1    im go through some things with my feelings and...\n",
              "2    im go through some things with my feelings and...\n",
              "3    im go through some things with my feelings and...\n",
              "4    im go through some things with my feelings and...\n",
              "Name: cleaned_text, dtype: object"
            ],
            "text/html": [
              "<div>\n",
              "<style scoped>\n",
              "    .dataframe tbody tr th:only-of-type {\n",
              "        vertical-align: middle;\n",
              "    }\n",
              "\n",
              "    .dataframe tbody tr th {\n",
              "        vertical-align: top;\n",
              "    }\n",
              "\n",
              "    .dataframe thead th {\n",
              "        text-align: right;\n",
              "    }\n",
              "</style>\n",
              "<table border=\"1\" class=\"dataframe\">\n",
              "  <thead>\n",
              "    <tr style=\"text-align: right;\">\n",
              "      <th></th>\n",
              "      <th>cleaned_text</th>\n",
              "    </tr>\n",
              "  </thead>\n",
              "  <tbody>\n",
              "    <tr>\n",
              "      <th>0</th>\n",
              "      <td>im go through some things with my feelings and...</td>\n",
              "    </tr>\n",
              "    <tr>\n",
              "      <th>1</th>\n",
              "      <td>im go through some things with my feelings and...</td>\n",
              "    </tr>\n",
              "    <tr>\n",
              "      <th>2</th>\n",
              "      <td>im go through some things with my feelings and...</td>\n",
              "    </tr>\n",
              "    <tr>\n",
              "      <th>3</th>\n",
              "      <td>im go through some things with my feelings and...</td>\n",
              "    </tr>\n",
              "    <tr>\n",
              "      <th>4</th>\n",
              "      <td>im go through some things with my feelings and...</td>\n",
              "    </tr>\n",
              "  </tbody>\n",
              "</table>\n",
              "</div><br><label><b>dtype:</b> object</label>"
            ]
          },
          "metadata": {},
          "execution_count": 25
        }
      ]
    },
    {
      "cell_type": "markdown",
      "source": [
        "Splitting the data into training and testing sets with a 80 : 20 ratio"
      ],
      "metadata": {
        "id": "E54wk5R3whRr"
      }
    },
    {
      "cell_type": "code",
      "source": [
        "# Train-Test Split\n",
        "X_train, X_test, y_train, y_test = train_test_split(df['cleaned_text'], df['label'], test_size=0.2, random_state=42)"
      ],
      "metadata": {
        "id": "gKtrZ_VAFg0Z"
      },
      "execution_count": null,
      "outputs": []
    },
    {
      "cell_type": "markdown",
      "source": [
        "## **TF-IDF Vectorization**"
      ],
      "metadata": {
        "id": "8vQj5BZ1wl37"
      }
    },
    {
      "cell_type": "code",
      "source": [
        "# TF-IDF Vectorization\n",
        "vectorizer = TfidfVectorizer()\n",
        "X_train_tfidf = vectorizer.fit_transform(X_train)\n",
        "X_test_tfidf = vectorizer.transform(X_test)"
      ],
      "metadata": {
        "id": "eqhXRg8JFkNS"
      },
      "execution_count": null,
      "outputs": []
    },
    {
      "cell_type": "markdown",
      "source": [
        "\n",
        "\n",
        "*   Creates a TF-IDF vectorizer that will transform text into numerical features.\n",
        "\n",
        "*   Learns the vocabulary from X_train (training text data).\n",
        "*   Converts X_train into a matrix of TF-IDF scores.\n",
        "\n",
        "\n",
        "*   Uses the vocabulary learned from X_train to transform X_test (test text data) into TF-IDF scores (without learning new words).\n",
        "\n"
      ],
      "metadata": {
        "id": "1aEDL2uLw0HM"
      }
    },
    {
      "cell_type": "markdown",
      "source": [
        "## **Model Building**"
      ],
      "metadata": {
        "id": "mHwETNO-xAuS"
      }
    },
    {
      "cell_type": "code",
      "source": [
        "# Train Machine Learning Models\n",
        "log_reg = LogisticRegression()\n",
        "svm_model = SVC(kernel='linear', probability=True)\n",
        "nb_model = MultinomialNB()\n",
        "\n",
        "log_reg.fit(X_train_tfidf, y_train)\n",
        "svm_model.fit(X_train_tfidf, y_train)\n",
        "nb_model.fit(X_train_tfidf, y_train)\n",
        "\n",
        "# Predictions\n",
        "y_pred_log = log_reg.predict(X_test_tfidf)\n",
        "y_pred_svm = svm_model.predict(X_test_tfidf)\n",
        "y_pred_nb = nb_model.predict(X_test_tfidf)"
      ],
      "metadata": {
        "id": "fai9zjSaGJKA"
      },
      "execution_count": null,
      "outputs": []
    },
    {
      "cell_type": "markdown",
      "source": [
        "Since the unsupervised text data was converted into a supervised text data by applying appropriate labels, we selected three supervised classification algorithms Logistic Regression, Support Vector Machines Classifier and Naive Bayes Classifier. These models were trained on the training data and predictions were made based on testing data."
      ],
      "metadata": {
        "id": "moqJU6WixNGw"
      }
    },
    {
      "cell_type": "markdown",
      "source": [
        "## **Model Evaluation**"
      ],
      "metadata": {
        "id": "eI8vKtTmxN6i"
      }
    },
    {
      "cell_type": "code",
      "source": [
        "# Evaluation Function\n",
        "def evaluate_model(y_test, y_pred, model_name):\n",
        "    print(f\"\\nEvaluation for {model_name}\")\n",
        "    print(\"Accuracy:\", accuracy_score(y_test, y_pred))\n",
        "    print(\"Classification Report:\\n\", classification_report(y_test, y_pred))\n",
        "    print(\"Confusion Matrix:\\n\", confusion_matrix(y_test, y_pred))\n",
        "\n",
        "evaluate_model(y_test, y_pred_log, \"Logistic Regression\")\n",
        "print(\"=========================================================================\")\n",
        "evaluate_model(y_test, y_pred_svm, \"SVM\")\n",
        "print(\"=========================================================================\")\n",
        "evaluate_model(y_test, y_pred_nb, \"Naïve Bayes\")"
      ],
      "metadata": {
        "colab": {
          "base_uri": "https://localhost:8080/"
        },
        "id": "YpFJa3xXFpZ4",
        "outputId": "e298eb42-a857-415f-89fd-a66ba4cf73da"
      },
      "execution_count": null,
      "outputs": [
        {
          "output_type": "stream",
          "name": "stdout",
          "text": [
            "\n",
            "Evaluation for Logistic Regression\n",
            "Accuracy: 0.9529914529914529\n",
            "Classification Report:\n",
            "               precision    recall  f1-score   support\n",
            "\n",
            "    negative       0.97      0.88      0.92       129\n",
            "     neutral       0.95      1.00      0.97       486\n",
            "    positive       0.99      0.82      0.89        87\n",
            "\n",
            "    accuracy                           0.95       702\n",
            "   macro avg       0.97      0.90      0.93       702\n",
            "weighted avg       0.95      0.95      0.95       702\n",
            "\n",
            "Confusion Matrix:\n",
            " [[114  14   1]\n",
            " [  2 484   0]\n",
            " [  2  14  71]]\n",
            "=========================================================================\n",
            "\n",
            "Evaluation for SVM\n",
            "Accuracy: 0.9786324786324786\n",
            "Classification Report:\n",
            "               precision    recall  f1-score   support\n",
            "\n",
            "    negative       0.97      0.95      0.96       129\n",
            "     neutral       0.98      0.99      0.99       486\n",
            "    positive       0.98      0.95      0.97        87\n",
            "\n",
            "    accuracy                           0.98       702\n",
            "   macro avg       0.98      0.96      0.97       702\n",
            "weighted avg       0.98      0.98      0.98       702\n",
            "\n",
            "Confusion Matrix:\n",
            " [[122   7   0]\n",
            " [  2 482   2]\n",
            " [  2   2  83]]\n",
            "=========================================================================\n",
            "\n",
            "Evaluation for Naïve Bayes\n",
            "Accuracy: 0.792022792022792\n",
            "Classification Report:\n",
            "               precision    recall  f1-score   support\n",
            "\n",
            "    negative       1.00      0.38      0.55       129\n",
            "     neutral       0.77      1.00      0.87       486\n",
            "    positive       1.00      0.24      0.39        87\n",
            "\n",
            "    accuracy                           0.79       702\n",
            "   macro avg       0.92      0.54      0.60       702\n",
            "weighted avg       0.84      0.79      0.75       702\n",
            "\n",
            "Confusion Matrix:\n",
            " [[ 49  80   0]\n",
            " [  0 486   0]\n",
            " [  0  66  21]]\n"
          ]
        }
      ]
    },
    {
      "cell_type": "markdown",
      "source": [
        "### Why misclassification of a patient with positive sentiments as a negative or neutral a problem ?\n",
        "\n",
        "*   If the treatment is focused on reducing distress, it might not be beneficial (or even necessary) for someone already in a positive emotional state.\n",
        "*   The patient might feel confused or disengaged because the therapy does not align with their current feelings.\n",
        "\n",
        "*   Some therapies, like cognitive restructuring (used for negative emotions), focus on identifying and challenging negative thoughts. If applied to someone in a positive state, it might make them overanalyze their emotions, potentially reducing their positivity.\n",
        "\n",
        "---\n",
        "\n",
        "### Why misclassification of a patient with negative sentiments as a positive or neutral a problem ?\n",
        "\n",
        "\n",
        "\n",
        "*   Positive emotion treatments (e.g., gratitude exercises, positive reinforcement) might feel disconnected from what the patient is experiencing.\n",
        "*   The person may struggle to engage because their negative emotions are not being acknowledged or addressed.\n",
        "\n",
        "*   If someone feeling depressed or anxious is encouraged to focus on positive thinking, it might seem forced or invalidating.\n",
        "*   This could lead to frustration, guilt, or worsened distress because they might feel pressured to be positive when they aren’t ready.\n",
        "\n",
        "---\n",
        "\n",
        "\n",
        "\n",
        "\n"
      ],
      "metadata": {
        "id": "kYpi3a-ARyZ2"
      }
    },
    {
      "cell_type": "markdown",
      "source": [
        "## **Selecting the best evaluation metric**\n",
        "*   Since the dataset is imbalanced, **accuracy** will be a misleading evaluation metric as this will result in an invalid treatment from the psychologist for the misclassified patients which actually needed careful treatment.\n",
        "\n",
        "*   Since the goal is to identify both type of misclassified patients, focus should be on reducing both **false positives** as well as **false negatives** and hence only **precision** or only **recall** respectively might be a misleading evaluation metric.\n",
        "\n",
        "*   So, the preferred evaluation metric for evaluating our classification models is **F1-Score**.\n",
        "*   Further, since we also need to account for the imbalance in the dataset that is also being represented in the testing data on which the respective evaluation metrics are being computed, hence **weighted avg f1-score** must be prioritized over **macro avg f1-score**.\n",
        "\n",
        "\n",
        "*   Hence, the best evaluation metric for evaluating our classification models is **Weighted F1-Score**.\n",
        "\n",
        "\n",
        "---\n",
        "\n",
        "\n",
        "\n",
        "\n",
        "\n",
        "\n",
        "\n"
      ],
      "metadata": {
        "id": "tX8PebFw4dBc"
      }
    },
    {
      "cell_type": "markdown",
      "source": [
        "## **Selecting the best classification model**\n",
        "![image.png](data:image/png;base64,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)\n",
        "\n",
        "\n",
        "\n",
        "* The weighted average F1-Score of Support Vector Machines Classifier (0.98) ranks the highest compared to other classification models Logistic Regression (0.95) and Naive-Bayes Classifier (0.75).\n",
        "\n",
        "* Hence, the best classification model useful for performing sentiment analysis of patients concerning their mental health is **Support Vector Machines Classifier**."
      ],
      "metadata": {
        "id": "QhAgBB0qW55G"
      }
    },
    {
      "cell_type": "markdown",
      "source": [
        "### **Improvements that can be made in psychologist-patient interactions based on sentiment analysis:**  \n",
        "\n",
        "\n",
        "\n",
        "*   Sentiment analysis can detect shifts in patients' emotional states through spoken or written communication (e.g., therapy transcripts, journal entries, or social media posts). This allows psychologists to intervene early if a patient shows signs of worsening mental health, such as depression, anxiety, or suicidal ideation.\n",
        "\n",
        "*   By analyzing a patient's tone and choice of words over time, psychologists can tailor therapy approaches based on their emotional patterns. Identifying which therapy techniques (e.g., cognitive-behavioral therapy, mindfulness) yield positive emotional responses can improve treatment efficacy.\n",
        "*   AI-powered sentiment analysis can provide real-time feedback on a patient's emotional state, helping psychologists adjust their approach instantly. For example, if a patient hesitates or shows discomfort when discussing a topic, the psychologist can probe deeper with empathy or change the conversation flow.\n",
        "\n",
        "\n",
        "*   Patients may not always express their true emotions directly. Sentiment analysis can help uncover hidden distress, allowing psychologists to address underlying issues. It can also improve digital therapy solutions (e.g., chatbots, teletherapy) by making them more responsive and emotionally intelligent.\n",
        "\n",
        "*   If sentiment analysis detects high-risk emotions (e.g., extreme sadness, hopelessness, anger), it can trigger alerts for immediate intervention. This can be integrated into mental health apps, chatbots, or crisis hotlines to provide timely support.\n",
        "*   Sentiment analysis can help supervisors assess therapist-patient interactions, providing feedback on areas like empathy, listening skills, and response effectiveness.\n",
        "\n",
        "\n",
        "\n",
        "\n",
        "\n",
        "\n",
        "\n",
        "\n"
      ],
      "metadata": {
        "id": "JlNUTNZoboAO"
      }
    }
  ]
}
